{
 "metadata": {
  "language_info": {
   "codemirror_mode": {
    "name": "ipython",
    "version": 3
   },
   "file_extension": ".py",
   "mimetype": "text/x-python",
   "name": "python",
   "nbconvert_exporter": "python",
   "pygments_lexer": "ipython3",
   "version": "3.7.7-final"
  },
  "orig_nbformat": 2,
  "kernelspec": {
   "name": "python_defaultSpec_1595461793861",
   "display_name": "Python 3.7.7 64-bit ('udemy': conda)"
  }
 },
 "nbformat": 4,
 "nbformat_minor": 2,
 "cells": [
  {
   "cell_type": "markdown",
   "metadata": {},
   "source": [
    "# Introducción a Python\n",
    "En la primera sesión del curso nivelatorio revisaremos:\n",
    "* Lenguaje (python)\n",
    "* Entorno de Desarrollo - IDE (Jupyter Notebook)\n",
    "* Funciones integradas\n",
    "* Operaciones básicas (aritméticas, relacionales) "
   ]
  },
  {
   "cell_type": "markdown",
   "metadata": {},
   "source": [
    "## Salidas de consola\n",
    "* Textos\n",
    "* Números arbitrariamente grandes\n",
    "* Números binarios\n",
    "* Números hexadecimal\n",
    "* Números octal\n",
    "* Tipos de valores\n",
    "* Números de punto flotante"
   ]
  },
  {
   "cell_type": "code",
   "execution_count": 11,
   "metadata": {
    "tags": []
   },
   "outputs": [
    {
     "output_type": "stream",
     "name": "stdout",
     "text": "Hola mundo!\n12345678901234567891\n"
    }
   ],
   "source": [
    "# Nuestro primer programa en Python\n",
    "print(\"Hola mundo!\")"
   ]
  },
  {
   "cell_type": "code",
   "execution_count": 15,
   "metadata": {
    "tags": []
   },
   "outputs": [
    {
     "output_type": "stream",
     "name": "stdout",
     "text": "12345678901234567891\n14\n32\n27\n"
    }
   ],
   "source": [
    "# Números arbitrariametne grandes\n",
    "print(12345678901234567890+1)\n",
    "print(14)\n",
    "print(32)\n",
    "print(27)"
   ]
  },
  {
   "cell_type": "code",
   "execution_count": 18,
   "metadata": {
    "tags": []
   },
   "outputs": [
    {
     "output_type": "stream",
     "name": "stdout",
     "text": "2\n9\n"
    }
   ],
   "source": [
    "# Números binarios\n",
    "print(0b10)\n",
    "print(0b1001)"
   ]
  },
  {
   "cell_type": "code",
   "execution_count": 21,
   "metadata": {
    "tags": []
   },
   "outputs": [
    {
     "output_type": "stream",
     "name": "stdout",
     "text": "4097\n"
    }
   ],
   "source": [
    "# Números hexadecimales\n",
    "print(0x1001)"
   ]
  },
  {
   "cell_type": "code",
   "execution_count": 23,
   "metadata": {
    "tags": []
   },
   "outputs": [
    {
     "output_type": "stream",
     "name": "stdout",
     "text": "513\n"
    }
   ],
   "source": [
    "# Números octales\n",
    "print(0o1001)"
   ]
  },
  {
   "cell_type": "code",
   "execution_count": 27,
   "metadata": {
    "tags": []
   },
   "outputs": [
    {
     "output_type": "stream",
     "name": "stdout",
     "text": "<class 'int'>\n<class 'int'>\n<class 'str'>\n"
    }
   ],
   "source": [
    "# Tipos de datos\n",
    "print(type(14))\n",
    "print(type(0o1001))\n",
    "print(type(\"0o1001\"))"
   ]
  },
  {
   "cell_type": "code",
   "execution_count": 37,
   "metadata": {
    "tags": []
   },
   "outputs": [
    {
     "output_type": "stream",
     "name": "stdout",
     "text": "3.14\n<class 'float'>\n7.0\n<class 'float'>\n6000.0\n<class 'float'>\n1.79e+308\n<class 'float'>\ninf\n<class 'float'>\n"
    }
   ],
   "source": [
    "for var in [3.14\n",
    "  , 7., .6e4\n",
    "  , 1.79e308\n",
    "  , 1.8e308]:\n",
    "    print(var)\n",
    "    print(type(var))\n"
   ]
  },
  {
   "cell_type": "code",
   "execution_count": 39,
   "metadata": {},
   "outputs": [
    {
     "output_type": "execute_result",
     "data": {
      "text/plain": "(-3+4j)"
     },
     "metadata": {},
     "execution_count": 39
    }
   ],
   "source": [
    "# Números imaginarios\n",
    "(2+3j) - (5-1j)"
   ]
  },
  {
   "cell_type": "markdown",
   "metadata": {},
   "source": [
    "# Operador +\n",
    "* número + número : Suma\n",
    "* cadena + cadena : Concatenación\n",
    "* lista + lista : Concatenación\n",
    "Para concatenar un string y un número, se debe castear el número a texto"
   ]
  },
  {
   "cell_type": "code",
   "execution_count": 44,
   "metadata": {
    "tags": []
   },
   "outputs": [
    {
     "output_type": "stream",
     "name": "stdout",
     "text": "5\nRyuma Nakano\nrjnl_85\nsiriri\n"
    }
   ],
   "source": [
    "print(2+3)\n",
    "print('Ryuma'+' Nakano')\n",
    "print('rjnl_'+str(85))\n",
    "print('si'+('ri'*2))"
   ]
  },
  {
   "cell_type": "markdown",
   "metadata": {},
   "source": [
    "# Operador *\n",
    "* Multiplica dos números\n",
    "* Eleva a la potencia un potencia\n",
    "* Multiplica las cadenas"
   ]
  },
  {
   "cell_type": "code",
   "execution_count": 45,
   "metadata": {
    "tags": []
   },
   "outputs": [
    {
     "output_type": "stream",
     "name": "stdout",
     "text": "6\n8\nsiriri\n"
    }
   ],
   "source": [
    "print(2*3)\n",
    "print(2**3)\n",
    "print('si'+('ri'*2))"
   ]
  },
  {
   "cell_type": "code",
   "execution_count": 52,
   "metadata": {
    "tags": []
   },
   "outputs": [
    {
     "output_type": "stream",
     "name": "stdout",
     "text": "Mi nombre es: Ryuma Nakano\nMi nombre es: Ryuma Nakano\nMi nombre es: Ryuma Nakano\nMi nombre es:|Ryuma|Nakano."
    }
   ],
   "source": [
    "nombre = 'Ryuma'\n",
    "apellido = 'Nakano'\n",
    "print(f'Mi nombre es: {nombre} {apellido}')\n",
    "print('Mi nombre es: ' +nombre+' '+ apellido)\n",
    "print('Mi nombre es:',nombre,apellido)\n",
    "print('Mi nombre es:',nombre,apellido,sep='|',end='.')\n"
   ]
  },
  {
   "cell_type": "markdown",
   "metadata": {
    "tags": []
   },
   "source": [
    "# Lectura básica de datos\n",
    "* input"
   ]
  },
  {
   "cell_type": "code",
   "execution_count": 66,
   "metadata": {
    "tags": []
   },
   "outputs": [
    {
     "output_type": "stream",
     "name": "stdout",
     "text": "El valor es: \n"
    },
    {
     "output_type": "execute_result",
     "data": {
      "text/plain": "''"
     },
     "metadata": {},
     "execution_count": 66
    }
   ],
   "source": [
    "variable = input()\n",
    "print(f'El valor es: {variable}')\n",
    "\n",
    "input('Por favor ingrese un dato:')"
   ]
  },
  {
   "cell_type": "markdown",
   "metadata": {},
   "source": [
    "# Ejercicios\n",
    "1. Calcular el perímetro de un rectángulo\n",
    "2. Calcular el área de un triángulo "
   ]
  },
  {
   "cell_type": "code",
   "execution_count": 72,
   "metadata": {
    "tags": []
   },
   "outputs": [
    {
     "output_type": "stream",
     "name": "stdout",
     "text": "El perímetro del rectángulo de base 3.0 y de altura 4 es igual a 14.0\n"
    }
   ],
   "source": [
    "baseRectangulo = float(input('Ingrese la base del rectángulo:'))\n",
    "alturaRectangulo = float(input('Ingrese la altura del rectángulo:'))\n",
    "perimetro = 2*(baseRectangulo + alturaRectangulo)\n",
    "print(f'El perímetro del rectángulo de base {baseRectangulo} y de altura {alturaRectangulo} es igual a {perimetro}')"
   ]
  },
  {
   "cell_type": "code",
   "execution_count": 79,
   "metadata": {
    "tags": []
   },
   "outputs": [
    {
     "output_type": "stream",
     "name": "stdout",
     "text": "El área del triangulo de base 3.0 y de altura 4.0 es igual a 6.0\n"
    }
   ],
   "source": [
    "baseTriangulo = float(input('Ingrese la base del triangulo:'))\n",
    "alturaTriangulo = float(input('Ingrese la altura del triangulo:'))\n",
    "area = baseTriangulo*alturaTriangulo/2\n",
    "print(f'El área del triangulo de base {baseTriangulo} y de altura {alturaTriangulo} es igual a {area}')"
   ]
  },
  {
   "cell_type": "code",
   "execution_count": 85,
   "metadata": {
    "tags": []
   },
   "outputs": [
    {
     "output_type": "stream",
     "name": "stdout",
     "text": "False\na = 3.3000000000000003\nb = 3.3\nTrue\n"
    }
   ],
   "source": [
    "a = 1.1 + 2.2\n",
    "b = 3.3\n",
    "print(a==b)\n",
    "print('a =',a)\n",
    "print('b =',b)\n",
    "print(abs(a-b)<0.000000001)\n"
   ]
  },
  {
   "cell_type": "code",
   "execution_count": 87,
   "metadata": {
    "tags": []
   },
   "outputs": [
    {
     "output_type": "stream",
     "name": "stdout",
     "text": "False\nTrue\nTrue\n"
    }
   ],
   "source": [
    "print(True and False)\n",
    "print(True or False)\n",
    "print(not(True and False)and True)\n"
   ]
  },
  {
   "cell_type": "markdown",
   "metadata": {},
   "source": [
    "# Ejercicios Condicionales\n",
    "* Escriba un programa que determine si es par o impar\n",
    "* Escriba un programa que dado el salario base de un empleado indique si tiene derecho a auxilio de transporte y cuánto es total devengado. Un empleado recibe auxilio de transporte si devenga menos de 2 salarios mínimos\n",
    "* Escriba un programa que dados tres nombres, imprima el nombre mas corto y el mas largo"
   ]
  },
  {
   "cell_type": "code",
   "execution_count": 88,
   "metadata": {
    "tags": []
   },
   "outputs": [
    {
     "output_type": "stream",
     "name": "stdout",
     "text": "El número 3 es impar\n"
    }
   ],
   "source": [
    "valor = int(input('Digite un número:'))\n",
    "if valor%2:\n",
    "    print(f'El número {valor} es impar')\n",
    "else: \n",
    "    print(f'El número {valor} es par')"
   ]
  },
  {
   "cell_type": "code",
   "execution_count": 90,
   "metadata": {
    "tags": []
   },
   "outputs": [
    {
     "output_type": "stream",
     "name": "stdout",
     "text": "El empleado tiene derecho al auxilio de transporte y el total del salario es de 1302854\n"
    }
   ],
   "source": [
    "salMin = 877803\n",
    "auxTrans = 102854\n",
    "salDev = int(input('Digite el salario devengado'))\n",
    "\n",
    "if salDev <= 2*salMin:\n",
    "    print(f'El empleado tiene derecho al auxilio de transporte y el total del salario es de {salDev+auxTrans}')\n",
    "else:\n",
    "    print(f'El empleado NO tiene derecho al auxilio de transporte y el total del salario es de {salDev}')"
   ]
  },
  {
   "cell_type": "code",
   "execution_count": 100,
   "metadata": {
    "tags": []
   },
   "outputs": [
    {
     "output_type": "stream",
     "name": "stdout",
     "text": "El nombre mas corto es: ana\nEl nombre mas corto es: jonathan\n"
    }
   ],
   "source": [
    "nombres = (\n",
    "    input('Digite el primer nombre:'),\n",
    "    input('Digite el segundo nombre:'),\n",
    "    input('Digite el tercer nombre:')\n",
    "    )\n",
    "if len(nombres[0])<len(nombres[1]) and len(nombres[0])<len(nombres[2]):\n",
    "    minNom = nombres[0]\n",
    "elif len(nombres[1])<len(nombres[2]):\n",
    "    minNom = nombres[1]\n",
    "else:\n",
    "    minNom = nombres[2]\n",
    "\n",
    "if len(nombres[0])>len(nombres[1]) and len(nombres[0])>len(nombres[2]):\n",
    "    maxNom = nombres[0]\n",
    "elif len(nombres[1])>len(nombres[2]):\n",
    "    maxNom = nombres[1]\n",
    "else:\n",
    "    maxNom = nombres[2]\n",
    "\n",
    "print(f'El nombre mas corto es: {minNom}')\n",
    "print(f'El nombre mas corto es: {maxNom}')\n"
   ]
  },
  {
   "cell_type": "code",
   "execution_count": 103,
   "metadata": {
    "tags": []
   },
   "outputs": [
    {
     "output_type": "stream",
     "name": "stdout",
     "text": "Menú de opciones:\n1. Hora actual\n2. Salir\n2020-07-22 21:37:15.584898\nMenú de opciones:\n1. Hora actual\n2. Salir\n"
    }
   ],
   "source": [
    "from datetime import datetime\n",
    "opcion = 0\n",
    "while opcion != 2:\n",
    "    print('Menú de opciones:')\n",
    "    print('1. Hora actual')\n",
    "    print('2. Salir')\n",
    "    opcion = int(input('Seleccione la opción:'))\n",
    "    if opcion == 1:\n",
    "        print(datetime.now())\n",
    "\n"
   ]
  },
  {
   "cell_type": "code",
   "execution_count": 109,
   "metadata": {
    "tags": []
   },
   "outputs": [
    {
     "output_type": "stream",
     "name": "stdout",
     "text": "El perímetro del polígono es 9\n"
    }
   ],
   "source": [
    "\n",
    "numLados = 0\n",
    "while numLados < 3:\n",
    "    numLados = int(input('Digite la cantidad de lados del polígono'))\n",
    "\n",
    "lado = 1\n",
    "perimetro = 0\n",
    "while lado <= numLados:\n",
    "    tamanoLado = 0\n",
    "    while tamanoLado <= 0:\n",
    "        tamanoLado = int(input(f'Digite el tamaño del lado {lado}:'))\n",
    "    \n",
    "    perimetro += tamanoLado\n",
    "    lado += 1\n",
    "\n",
    "print(f'El perímetro del polígono es {perimetro}')"
   ]
  },
  {
   "cell_type": "code",
   "execution_count": 115,
   "metadata": {
    "tags": []
   },
   "outputs": [
    {
     "output_type": "stream",
     "name": "stdout",
     "text": "El perímetro del polígono es 3.27\n"
    }
   ],
   "source": [
    "cantNotas = 0\n",
    "while cantNotas < 1:\n",
    "    cantNotas = int(input('Digite la cantidad de notas del polígono'))\n",
    "\n",
    "nota = 0\n",
    "totalNota = 0\n",
    "while nota < cantNotas:\n",
    "    valorNota = -1\n",
    "    while valorNota < 0:\n",
    "        valorNota = float(input(f'Digite el tamaño del nota {nota}:'))\n",
    "    \n",
    "    totalNota += valorNota\n",
    "    nota += 1\n",
    "\n",
    "print(f'El perímetro del polígono es {round(totalNota/nota,2)}')"
   ]
  }
 ]
}