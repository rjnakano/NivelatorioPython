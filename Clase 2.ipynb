{
 "metadata": {
  "language_info": {
   "codemirror_mode": {
    "name": "ipython",
    "version": 3
   },
   "file_extension": ".py",
   "mimetype": "text/x-python",
   "name": "python",
   "nbconvert_exporter": "python",
   "pygments_lexer": "ipython3",
   "version": 3
  },
  "orig_nbformat": 2,
  "kernelspec": {
   "name": "python_defaultSpec_1595978165689",
   "display_name": "Python 3.7.7 64-bit ('udemy': conda)"
  }
 },
 "nbformat": 4,
 "nbformat_minor": 2,
 "cells": [
  {
   "cell_type": "code",
   "execution_count": 29,
   "metadata": {
    "tags": []
   },
   "outputs": [
    {
     "output_type": "stream",
     "name": "stdout",
     "text": "[1, 4, 9, 16, 25]\n16\n1\n[4, 9]\n"
    }
   ],
   "source": [
    "cuadrados=[1,4,9,16,25]\n",
    "print(cuadrados)\n",
    "print(cuadrados[3])\n",
    "print(cuadrados[0])\n",
    "print(cuadrados[1:3])"
   ]
  },
  {
   "cell_type": "code",
   "execution_count": 30,
   "metadata": {
    "tags": []
   },
   "outputs": [
    {
     "output_type": "stream",
     "name": "stdout",
     "text": "[1, 4, 9]\n[4, 9, 16, 25]\n[1, 4, 9, 16, 25]\n"
    }
   ],
   "source": [
    "# Slicing\n",
    "print(cuadrados[:3])\n",
    "print(cuadrados[1:])\n",
    "print(cuadrados[:])"
   ]
  },
  {
   "cell_type": "code",
   "execution_count": 31,
   "metadata": {
    "tags": []
   },
   "outputs": [
    {
     "output_type": "stream",
     "name": "stdout",
     "text": "[1, 4, 9, 16, 25, 36, 49, 63]\n[1, 4, 9, 16, 25, 36, 49, 63, 81]\n"
    }
   ],
   "source": [
    "# Concatenación\n",
    "cuadrados = cuadrados + [36,49,63]\n",
    "print(cuadrados)\n",
    "cuadrados[7]\n",
    "cuadrados.append(81)\n",
    "print(cuadrados)"
   ]
  },
  {
   "cell_type": "code",
   "execution_count": 32,
   "metadata": {
    "tags": []
   },
   "outputs": [
    {
     "output_type": "stream",
     "name": "stdout",
     "text": "9\n[1, 4, 9, 16, 25, 36, 49, 63, 81, 1, 4, 9, 16, 25, 36, 49, 63, 81, 1, 4, 9, 16, 25, 36, 49, 63, 81]\n"
    }
   ],
   "source": [
    "# Otras funciones\n",
    "print(len(cuadrados))\n",
    "cuadrados = cuadrados *3\n",
    "print(cuadrados)"
   ]
  },
  {
   "cell_type": "code",
   "execution_count": 34,
   "metadata": {
    "tags": []
   },
   "outputs": [
    {
     "output_type": "stream",
     "name": "stdout",
     "text": "gato 4\nperro 5\nloro 4\n"
    }
   ],
   "source": [
    "animales = ['gato','perro','loro']\n",
    "for animal in animales:\n",
    "    print(animal,len(animal))"
   ]
  },
  {
   "cell_type": "code",
   "execution_count": 44,
   "metadata": {
    "tags": []
   },
   "outputs": [
    {
     "output_type": "stream",
     "name": "stdout",
     "text": "[1, 1, 1]\nEl número 3 se repite 0 veces\n"
    }
   ],
   "source": [
    "cantidad_numeros = int(input('Digite la cantidad de números a ingresar:'))\n",
    "\n",
    "lista_numeros = []\n",
    "for i in range(0,cantidad_numeros):\n",
    "    numero = int(input(f'Digite el número para la posición {i}:'))\n",
    "    lista_numeros.append(numero)\n",
    "print(lista_numeros)\n",
    "\n",
    "# Buscar número\n",
    "leer_numero = int(input('Digite el número a buscar:'))\n",
    "contador = 0\n",
    "encontrado = 0\n",
    "while contador < len(lista_numeros):\n",
    "    if leer_numero == lista_numeros[contador]:\n",
    "        encontrado += 1\n",
    "    contador += 1\n",
    "\n",
    "print(f'El número {leer_numero} se repite {encontrado} veces')\n",
    "\n"
   ]
  },
  {
   "cell_type": "code",
   "execution_count": 64,
   "metadata": {
    "tags": []
   },
   "outputs": [
    {
     "output_type": "stream",
     "name": "stdout",
     "text": "[[1, 2, 3], [4, 5, 6], [7, 8, 9]]\n"
    }
   ],
   "source": [
    "# Matriz\n",
    "valor_n = int(input('Ingrese el valor n')) \n",
    "matriz = []\n",
    "# Valor a insertar en cada posición\n",
    "contador = 1\n",
    "\n",
    "for i in range(0,valor_n):\n",
    "    vector = []\n",
    "    for j in range(0,valor_n):\n",
    "        vector.append(contador)\n",
    "        contador += 1    \n",
    "    matriz.append(vector)\n",
    "print(matriz)\n",
    "\n"
   ]
  },
  {
   "cell_type": "code",
   "execution_count": 68,
   "metadata": {
    "tags": []
   },
   "outputs": [
    {
     "output_type": "stream",
     "name": "stdout",
     "text": "{40, 10, 20, 30}\n"
    }
   ],
   "source": [
    "lista_numeros = input('Ingrese una lista de valores:')\n",
    "lista_numeros = list(map(int, lista_numeros.split()))\n",
    "print(set(lista_numeros))"
   ]
  },
  {
   "cell_type": "code",
   "execution_count": 71,
   "metadata": {
    "tags": []
   },
   "outputs": [
    {
     "output_type": "stream",
     "name": "stdout",
     "text": "[1, 2, 4]\n[1, 2, 4]\n[1, 2, 3]\n"
    }
   ],
   "source": [
    "a = [1,2,3]\n",
    "b = a\n",
    "b[2] = 4\n",
    "\n",
    "b = a.copy()\n",
    "b[2] = 3\n",
    "print(a)\n",
    "print(b)"
   ]
  }
 ]
}